{
 "cells": [
  {
   "cell_type": "code",
   "execution_count": 1,
   "metadata": {},
   "outputs": [],
   "source": [
    "import numpy as np\n",
    "import pandas as pd\n",
    "import matplotlib as mpl\n",
    "import matplotlib.pyplot as plt\n",
    "%matplotlib inline"
   ]
  },
  {
   "cell_type": "code",
   "execution_count": 2,
   "metadata": {},
   "outputs": [],
   "source": [
    "import tensorflow as tf\n",
    "from tensorflow import keras"
   ]
  },
  {
   "cell_type": "code",
   "execution_count": 4,
   "metadata": {},
   "outputs": [],
   "source": [
    "from sklearn.datasets import fetch_california_housing\n",
    "housing = fetch_california_housing()"
   ]
  },
  {
   "cell_type": "code",
   "execution_count": 5,
   "metadata": {},
   "outputs": [
    {
     "name": "stdout",
     "output_type": "stream",
     "text": [
      "['MedInc', 'HouseAge', 'AveRooms', 'AveBedrms', 'Population', 'AveOccup', 'Latitude', 'Longitude']\n"
     ]
    }
   ],
   "source": [
    "print(housing.feature_names)"
   ]
  },
  {
   "cell_type": "code",
   "execution_count": 6,
   "metadata": {},
   "outputs": [],
   "source": [
    "from sklearn.model_selection import train_test_split\n",
    "x_train,x_test,y_train,y_test = train_test_split(housing.data,housing.target,random_state = 42)\n",
    "x_train,x_valid,y_train,y_valid = train_test_split(x_train,y_train,random_state = 42)\n"
   ]
  },
  {
   "cell_type": "code",
   "execution_count": 7,
   "metadata": {},
   "outputs": [],
   "source": [
    "from sklearn.preprocessing import StandardScaler\n",
    "scalar = StandardScaler()\n",
    "x_train = scalar.fit_transform(x_train)\n",
    "x_valid = scalar.transform(x_valid)\n",
    "x_test = scalar.transform(x_test)"
   ]
  },
  {
   "cell_type": "code",
   "execution_count": 8,
   "metadata": {},
   "outputs": [
    {
     "data": {
      "text/plain": [
       "(11610, 8)"
      ]
     },
     "execution_count": 8,
     "metadata": {},
     "output_type": "execute_result"
    }
   ],
   "source": [
    "x_train.shape\n"
   ]
  },
  {
   "cell_type": "code",
   "execution_count": 9,
   "metadata": {},
   "outputs": [],
   "source": [
    "model = keras.models.Sequential([\n",
    "    keras.layers.Dense(30, activation = 'relu', input_shape = [8]),\n",
    "    keras.layers.Dense(30,activation = 'relu'),\n",
    "    keras.layers.Dense(1)\n",
    "])"
   ]
  },
  {
   "cell_type": "code",
   "execution_count": 10,
   "metadata": {},
   "outputs": [],
   "source": [
    "model.compile(loss = \"mean_squared_error\",\n",
    "             optimizer = keras.optimizers.SGD(lr=1e-3),\n",
    "             metrics =['mae'])"
   ]
  },
  {
   "cell_type": "code",
   "execution_count": 15,
   "metadata": {},
   "outputs": [
    {
     "name": "stdout",
     "output_type": "stream",
     "text": [
      "Train on 11610 samples, validate on 3870 samples\n",
      "Epoch 1/20\n",
      "11610/11610 [==============================] - 2s 185us/sample - loss: 0.3971 - mae: 0.4545 - val_loss: 0.4142 - val_mae: 0.4457\n",
      "Epoch 2/20\n",
      "11610/11610 [==============================] - 2s 181us/sample - loss: 0.3940 - mae: 0.4527 - val_loss: 0.4169 - val_mae: 0.4443\n",
      "Epoch 3/20\n",
      "11610/11610 [==============================] - 2s 193us/sample - loss: 0.3924 - mae: 0.4512 - val_loss: 0.4281 - val_mae: 0.4453\n",
      "Epoch 4/20\n",
      "11610/11610 [==============================] - 2s 176us/sample - loss: 0.3895 - mae: 0.4496 - val_loss: 0.4255 - val_mae: 0.4422\n",
      "Epoch 5/20\n",
      "11610/11610 [==============================] - 2s 195us/sample - loss: 0.3875 - mae: 0.4479 - val_loss: 0.4310 - val_mae: 0.4398\n",
      "Epoch 6/20\n",
      "11610/11610 [==============================] - 2s 180us/sample - loss: 0.3853 - mae: 0.4460 - val_loss: 0.4365 - val_mae: 0.4417\n",
      "Epoch 7/20\n",
      "11610/11610 [==============================] - 2s 176us/sample - loss: 0.3832 - mae: 0.4450 - val_loss: 0.4264 - val_mae: 0.4378\n",
      "Epoch 8/20\n",
      "11610/11610 [==============================] - 2s 187us/sample - loss: 0.3818 - mae: 0.4433 - val_loss: 0.4172 - val_mae: 0.4361\n",
      "Epoch 9/20\n",
      "11610/11610 [==============================] - 2s 189us/sample - loss: 0.3803 - mae: 0.4426 - val_loss: 0.4162 - val_mae: 0.4358\n",
      "Epoch 10/20\n",
      "11610/11610 [==============================] - 2s 178us/sample - loss: 0.3784 - mae: 0.4412 - val_loss: 0.4308 - val_mae: 0.4383\n",
      "Epoch 11/20\n",
      "11610/11610 [==============================] - 2s 182us/sample - loss: 0.3769 - mae: 0.4404 - val_loss: 0.4196 - val_mae: 0.4333\n",
      "Epoch 12/20\n",
      "11610/11610 [==============================] - 2s 178us/sample - loss: 0.3750 - mae: 0.4384 - val_loss: 0.4101 - val_mae: 0.4324\n",
      "Epoch 13/20\n",
      "11610/11610 [==============================] - 2s 181us/sample - loss: 0.3739 - mae: 0.4377 - val_loss: 0.4088 - val_mae: 0.4322\n",
      "Epoch 14/20\n",
      "11610/11610 [==============================] - 2s 182us/sample - loss: 0.3725 - mae: 0.4367 - val_loss: 0.4195 - val_mae: 0.4314\n",
      "Epoch 15/20\n",
      "11610/11610 [==============================] - 2s 188us/sample - loss: 0.3710 - mae: 0.4359 - val_loss: 0.4071 - val_mae: 0.4307\n",
      "Epoch 16/20\n",
      "11610/11610 [==============================] - 2s 175us/sample - loss: 0.3701 - mae: 0.4350 - val_loss: 0.4183 - val_mae: 0.4298\n",
      "Epoch 17/20\n",
      "11610/11610 [==============================] - 2s 171us/sample - loss: 0.3689 - mae: 0.4340 - val_loss: 0.3943 - val_mae: 0.4266\n",
      "Epoch 18/20\n",
      "11610/11610 [==============================] - 2s 186us/sample - loss: 0.3678 - mae: 0.4331 - val_loss: 0.4091 - val_mae: 0.4286\n",
      "Epoch 19/20\n",
      "11610/11610 [==============================] - 2s 201us/sample - loss: 0.3667 - mae: 0.4322 - val_loss: 0.3895 - val_mae: 0.4280\n",
      "Epoch 20/20\n",
      "11610/11610 [==============================] - 3s 215us/sample - loss: 0.3658 - mae: 0.4317 - val_loss: 0.3903 - val_mae: 0.4270\n"
     ]
    }
   ],
   "source": [
    "model_his = model.fit(x_train,y_train,epochs = 20,validation_data = (x_valid,y_valid))"
   ]
  },
  {
   "cell_type": "code",
   "execution_count": 16,
   "metadata": {},
   "outputs": [
    {
     "name": "stdout",
     "output_type": "stream",
     "text": [
      "5160/5160 [==============================] - 1s 164us/sample - loss: 0.3649 - mae: 0.4305\n"
     ]
    }
   ],
   "source": [
    "test = model.evaluate(x_test,y_test)"
   ]
  },
  {
   "cell_type": "code",
   "execution_count": 17,
   "metadata": {},
   "outputs": [
    {
     "data": {
      "text/plain": [
       "{'loss': [0.39708803923965835,\n",
       "  0.39398596128136,\n",
       "  0.3924377844725879,\n",
       "  0.3895079692435819,\n",
       "  0.38745940618223407,\n",
       "  0.38527872823724246,\n",
       "  0.38318518973136134,\n",
       "  0.3817521881174158,\n",
       "  0.3802978929494805,\n",
       "  0.3783702605659853,\n",
       "  0.3768870542985832,\n",
       "  0.37496237764062806,\n",
       "  0.37390302074664017,\n",
       "  0.3725395760871951,\n",
       "  0.3710404454506645,\n",
       "  0.3701363091731667,\n",
       "  0.36890840854344953,\n",
       "  0.36779268785194524,\n",
       "  0.3667285764453536,\n",
       "  0.3658196023216954],\n",
       " 'mae': [0.45452756,\n",
       "  0.45268172,\n",
       "  0.45117393,\n",
       "  0.4496419,\n",
       "  0.44791,\n",
       "  0.4460354,\n",
       "  0.44502062,\n",
       "  0.44334865,\n",
       "  0.44255936,\n",
       "  0.4412339,\n",
       "  0.44042966,\n",
       "  0.43839842,\n",
       "  0.43774167,\n",
       "  0.43671554,\n",
       "  0.43586046,\n",
       "  0.43501464,\n",
       "  0.43401265,\n",
       "  0.4331118,\n",
       "  0.43220624,\n",
       "  0.43167457],\n",
       " 'val_loss': [0.4142327394211323,\n",
       "  0.416936526056716,\n",
       "  0.42807969222235126,\n",
       "  0.4254669147945498,\n",
       "  0.430979092908152,\n",
       "  0.4365311184517789,\n",
       "  0.4264363655594276,\n",
       "  0.4172076733845457,\n",
       "  0.4162474524297147,\n",
       "  0.43075908625002673,\n",
       "  0.4195547839852883,\n",
       "  0.4100601266905935,\n",
       "  0.40875023945357447,\n",
       "  0.41950543541316837,\n",
       "  0.4070668983598088,\n",
       "  0.4183196893034055,\n",
       "  0.3943494624638742,\n",
       "  0.4091137256348164,\n",
       "  0.3894706877088054,\n",
       "  0.39033064475663254],\n",
       " 'val_mae': [0.44569102,\n",
       "  0.44428092,\n",
       "  0.44534796,\n",
       "  0.44222036,\n",
       "  0.43981338,\n",
       "  0.44165546,\n",
       "  0.4377645,\n",
       "  0.43605694,\n",
       "  0.4357543,\n",
       "  0.43828148,\n",
       "  0.43334344,\n",
       "  0.43243593,\n",
       "  0.43221596,\n",
       "  0.43141624,\n",
       "  0.43066463,\n",
       "  0.42983344,\n",
       "  0.42662084,\n",
       "  0.42858204,\n",
       "  0.4280241,\n",
       "  0.42699128]}"
      ]
     },
     "execution_count": 17,
     "metadata": {},
     "output_type": "execute_result"
    }
   ],
   "source": [
    "model_his.history"
   ]
  },
  {
   "cell_type": "code",
   "execution_count": 18,
   "metadata": {},
   "outputs": [
    {
     "data": {
      "image/png": "[encoded data removed]",
      "text/plain": [
       "<Figure size 576x360 with 1 Axes>"
      ]
     },
     "metadata": {
      "needs_background": "light"
     },
     "output_type": "display_data"
    }
   ],
   "source": [
    "pd.DataFrame(model_his.history).plot(figsize = (8,5))\n",
    "plt.grid(True)\n",
    "plt.gca().set_ylim(0,1)\n",
    "plt.show()"
   ]
  },
  {
   "cell_type": "code",
   "execution_count": null,
   "metadata": {},
   "outputs": [],
   "source": []
  }
 ],
 "metadata": {
  "kernelspec": {
   "display_name": "Python 3",
   "language": "python",
   "name": "python3"
  },
  "language_info": {
   "codemirror_mode": {
    "name": "ipython",
    "version": 3
   },
   "file_extension": ".py",
   "mimetype": "text/x-python",
   "name": "python",
   "nbconvert_exporter": "python",
   "pygments_lexer": "ipython3",
   "version": "3.7.4"
  }
 },
 "nbformat": 4,
 "nbformat_minor": 2
}
